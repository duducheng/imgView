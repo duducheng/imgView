{
 "cells": [
  {
   "cell_type": "code",
   "execution_count": 1,
   "metadata": {
    "collapsed": false
   },
   "outputs": [
    {
     "name": "stdout",
     "output_type": "stream",
     "text": [
      "imgView is interactive visual images tool for Python 2 (not tested for Python 3) with zero dependancy.\n"
     ]
    }
   ],
   "source": [
    "from imgView import imgViewer"
   ]
  },
  {
   "cell_type": "code",
   "execution_count": 2,
   "metadata": {
    "collapsed": false
   },
   "outputs": [
    {
     "name": "stdout",
     "output_type": "stream",
     "text": [
      "Created cache at C:\\data\\code\\imgView\\example\\.cache1740622673\n",
      "Find app running on http://localhost:10000/\n"
     ]
    }
   ],
   "source": [
    "viewer = imgViewer(img_dir=\"test_imgs/\", jsonfile=\"test.json\")\n",
    "viewer.serve(10000)"
   ]
  },
  {
   "cell_type": "code",
   "execution_count": 3,
   "metadata": {
    "collapsed": false
   },
   "outputs": [],
   "source": [
    "viewer.clear()"
   ]
  },
  {
   "cell_type": "code",
   "execution_count": 4,
   "metadata": {
    "collapsed": false
   },
   "outputs": [
    {
     "name": "stdout",
     "output_type": "stream",
     "text": [
      "Cleared.\n"
     ]
    }
   ],
   "source": [
    "viewer.clear()"
   ]
  },
  {
   "cell_type": "code",
   "execution_count": 5,
   "metadata": {
    "collapsed": true
   },
   "outputs": [],
   "source": [
    "import pandas as pd\n",
    "from imgView.pd_utils import dfViewer\n",
    "test_df = pd.read_json(\"test.json\")"
   ]
  },
  {
   "cell_type": "code",
   "execution_count": 6,
   "metadata": {
    "collapsed": false
   },
   "outputs": [
    {
     "name": "stdout",
     "output_type": "stream",
     "text": [
      "Created cache at C:\\data\\code\\imgView\\example\\.cache-864751314\n",
      "Find app running on http://localhost:9001/\n"
     ]
    }
   ],
   "source": [
    "df_viewer = dfViewer(test_df, img_dir=\"test_imgs/\")"
   ]
  },
  {
   "cell_type": "code",
   "execution_count": 7,
   "metadata": {
    "collapsed": true
   },
   "outputs": [],
   "source": [
    "df_viewer.clear()"
   ]
  },
  {
   "cell_type": "code",
   "execution_count": 8,
   "metadata": {
    "collapsed": false
   },
   "outputs": [
    {
     "name": "stdout",
     "output_type": "stream",
     "text": [
      "Cleared.\n"
     ]
    }
   ],
   "source": [
    "df_viewer.clear()"
   ]
  },
  {
   "cell_type": "code",
   "execution_count": 9,
   "metadata": {
    "collapsed": false
   },
   "outputs": [
    {
     "name": "stdout",
     "output_type": "stream",
     "text": [
      "Created cache at C:\\data\\code\\imgView\\example\\.cache-1822434539\n",
      "Created cache at C:\\data\\code\\imgView\\example\\.cache-1492332906\n"
     ]
    }
   ],
   "source": [
    "# you can also start 2 servers\n",
    "en_viewer = imgViewer(img_dir=\"test_imgs/\", jsonfile=\"en_test.json\",img_port=3000)\n",
    "cn_viewer = imgViewer(img_dir=\"test_imgs/\", jsonfile=\"cn_test.json\",img_port=3001)"
   ]
  },
  {
   "cell_type": "code",
   "execution_count": 10,
   "metadata": {
    "collapsed": false
   },
   "outputs": [
    {
     "name": "stdout",
     "output_type": "stream",
     "text": [
      "Find app running on http://localhost:1000/\n",
      "Find app running on http://localhost:1001/\n"
     ]
    }
   ],
   "source": [
    "en_viewer.serve(1000)\n",
    "cn_viewer.serve(1001)"
   ]
  },
  {
   "cell_type": "code",
   "execution_count": 11,
   "metadata": {
    "collapsed": true
   },
   "outputs": [],
   "source": [
    "en_viewer.clear()\n",
    "cn_viewer.clear()"
   ]
  },
  {
   "cell_type": "code",
   "execution_count": null,
   "metadata": {
    "collapsed": true
   },
   "outputs": [],
   "source": []
  }
 ],
 "metadata": {
  "anaconda-cloud": {},
  "kernelspec": {
   "display_name": "Python 2",
   "language": "python",
   "name": "python2"
  },
  "language_info": {
   "codemirror_mode": {
    "name": "ipython",
    "version": 2
   },
   "file_extension": ".py",
   "mimetype": "text/x-python",
   "name": "python",
   "nbconvert_exporter": "python",
   "pygments_lexer": "ipython2",
   "version": "2.7.12"
  }
 },
 "nbformat": 4,
 "nbformat_minor": 0
}
